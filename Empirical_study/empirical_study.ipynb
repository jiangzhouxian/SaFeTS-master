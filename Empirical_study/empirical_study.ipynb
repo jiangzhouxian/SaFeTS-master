{
 "cells": [
  {
   "cell_type": "markdown",
   "id": "f396cef4",
   "metadata": {},
   "source": [
    "# Semantic features extraction"
   ]
  },
  {
   "cell_type": "code",
   "execution_count": 1,
   "id": "577e6425",
   "metadata": {},
   "outputs": [
    {
     "name": "stderr",
     "output_type": "stream",
     "text": [
      "/home/zhouxian/anaconda3/envs/pytorch/lib/python3.8/site-packages/tqdm/auto.py:21: TqdmWarning: IProgress not found. Please update jupyter and ipywidgets. See https://ipywidgets.readthedocs.io/en/stable/user_install.html\n",
      "  from .autonotebook import tqdm as notebook_tqdm\n"
     ]
    }
   ],
   "source": [
    "import numpy as np\n",
    "import torch\n",
    "import torchvision\n",
    "import torchvision.transforms as transforms\n",
    "from torchvision.models import vgg16\n",
    "import matplotlib.pyplot as plt\n",
    "from PIL import Image\n",
    "import math\n",
    "from spectrum_utils import *\n",
    "import os"
   ]
  },
  {
   "cell_type": "markdown",
   "id": "acd10b42",
   "metadata": {},
   "source": [
    "## 1. Adversarial attack"
   ]
  },
  {
   "cell_type": "code",
   "execution_count": null,
   "id": "2a783b97",
   "metadata": {},
   "outputs": [],
   "source": [
    "file_dir = '/home/zhouxian/zhouxian/Spectrum_test/ImageNet/adv_img_pgd'\n",
    "file_names = os.listdir(file_dir)\n",
    "for file_name in file_names:\n",
    "    #print(file_name)\n",
    "    if file_name == '.ipynb_checkpoints':\n",
    "        pass    \n",
    "    img_path = os.path.join(file_dir, file_name)\n",
    "    orig_img = os.path.join(img_path, 'original.png')\n",
    "    adv_img = os.path.join(img_path, 'adversarial.png')\n",
    "    save_path = os.path.join(img_path, 'semantic.pdf')\n",
    "    orig, ph, hp, rd, qft = show_img_spectrum(orig_img)\n",
    "    orig1, ph1, hp1, rd1, qft1 = show_img_spectrum(adv_img)\n",
    "    data = [\n",
    "    [orig, ph, hp, rd, qft],\n",
    "    [orig1, ph1, hp1, rd1, qft1]]\n",
    "\n",
    "    titles = [\n",
    "        ['Orig', 'PFT', 'HPF', 'SR', 'QFT'],\n",
    "        []]\n",
    "\n",
    "    fig, axs = plt.subplots(2, 5, figsize=(15, 6))\n",
    "\n",
    "    for i in range(2):\n",
    "        for j in range(5):\n",
    "            if titles[i] and j < len(titles[i]):\n",
    "                axs[i, j].set_title(titles[i][j])\n",
    "            if j == 0:\n",
    "                axs[i, j].imshow(data[i][j])\n",
    "            if j == 2 or j == 4:\n",
    "                axs[i, j].imshow(data[i][j], cmap='gray_r')\n",
    "            else: \n",
    "                axs[i, j].imshow(data[i][j], cmap='gray')\n",
    "            axs[i, j].axis('off')\n",
    "\n",
    "    plt.tight_layout()\n",
    "    plt.savefig(save_path, dpi=500)\n",
    "    #plt.show()\n",
    "    plt.close()"
   ]
  },
  {
   "cell_type": "markdown",
   "id": "e6b4ddb5",
   "metadata": {},
   "source": [
    "## 2. Corruption"
   ]
  },
  {
   "cell_type": "code",
   "execution_count": 5,
   "id": "b0244f2c",
   "metadata": {},
   "outputs": [
    {
     
}
