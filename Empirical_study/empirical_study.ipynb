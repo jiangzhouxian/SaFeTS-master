{
 "cells": [
  {
   "cell_type": "markdown",
   "id": "fed64acb",
   "metadata": {},
   "source": [
    "# Semantic features extraction"
   ]
  },
  {
   "cell_type": "code",
   "execution_count": 1,
   "id": "f32f6a01",
   "metadata": {},
   "outputs": [
    {
     "name": "stderr",
     "output_type": "stream",
     "text": [
      "/home/zhouxian/anaconda3/envs/pytorch/lib/python3.8/site-packages/tqdm/auto.py:21: TqdmWarning: IProgress not found. Please update jupyter and ipywidgets. See https://ipywidgets.readthedocs.io/en/stable/user_install.html\n",
      "  from .autonotebook import tqdm as notebook_tqdm\n"
     ]
    }
   ],
   "source": [
    "import numpy as np\n",
    "import torch\n",
    "import torchvision\n",
    "import torchvision.transforms as transforms\n",
    "from torchvision.models import vgg16\n",
    "import matplotlib.pyplot as plt\n",
    "from PIL import Image\n",
    "import math\n",
    "from spectrum_utils import *\n",
    "import os"
   ]
  },
  {
   "cell_type": "markdown",
   "id": "8fe43d36",
   "metadata": {},
   "source": [
    "## 1. Adversarial attack"
   ]
  },
  {
   "cell_type": "code",
   "execution_count": null,
   "id": "7435c8eb",
   "metadata": {},
   "outputs": [],
   "source": [
    "file_dir = '/home/zhouxian/zhouxian/Spectrum_test/ImageNet/adv_img_pgd'\n",
    "file_names = os.listdir(file_dir)\n",
    "for file_name in file_names:\n",
    "    #print(file_name)\n",
    "    if file_name == '.ipynb_checkpoints':\n",
    "        pass    \n",
    "    img_path = os.path.join(file_dir, file_name)\n",
    "    orig_img = os.path.join(img_path, 'original.png')\n",
    "    adv_img = os.path.join(img_path, 'adversarial.png')\n",
    "    save_path = os.path.join(img_path, 'semantic.pdf')\n",
    "    orig, ph, hp, rd, qft = show_img_spectrum(orig_img)\n",
    "    orig1, ph1, hp1, rd1, qft1 = show_img_spectrum(adv_img)\n",
    "    data = [\n",
    "    [orig, ph, hp, rd, qft],\n",
    "    [orig1, ph1, hp1, rd1, qft1]]\n",
    "\n",
    "    titles = [\n",
    "        ['Orig', 'PFT', 'HPF', 'SR', 'QFT'],\n",
    "        []]\n",
    "\n",
    "    fig, axs = plt.subplots(2, 5, figsize=(15, 6))\n",
    "\n",
    "    for i in range(2):\n",
    "        for j in range(5):\n",
    "            if titles[i] and j < len(titles[i]):\n",
    "                axs[i, j].set_title(titles[i][j])\n",
    "            if j == 0:\n",
    "                axs[i, j].imshow(data[i][j])\n",
    "            if j == 2 or j == 4:\n",
    "                axs[i, j].imshow(data[i][j], cmap='gray_r')\n",
    "            else: \n",
    "                axs[i, j].imshow(data[i][j], cmap='gray')\n",
    "            axs[i, j].axis('off')\n",
    "\n",
    "    plt.tight_layout()\n",
    "    plt.savefig(save_path, dpi=500)\n",
    "    #plt.show()\n",
    "    plt.close()"
   ]
  },
  {
   "cell_type": "markdown",
   "id": "c4190b8b",
   "metadata": {},
   "source": [
    "## 2. Corruption"
   ]
  },
  {
   "cell_type": "code",
   "execution_count": 1,
   "id": "8eaceefb",
   "metadata": {},
   "outputs": [
    {
     "ename": "NameError",
     "evalue": "name 'os' is not defined",
     "output_type": "error",
     "traceback": [
      "\u001b[0;31m---------------------------------------------------------------------------\u001b[0m",
      "\u001b[0;31mNameError\u001b[0m                                 Traceback (most recent call last)",
      "Cell \u001b[0;32mIn[1], line 2\u001b[0m\n\u001b[1;32m      1\u001b[0m file_dir \u001b[38;5;241m=\u001b[39m \u001b[38;5;124m'\u001b[39m\u001b[38;5;124m/home/zhouxian/zhouxian/ImageNet-dataset/ImageNet-C\u001b[39m\u001b[38;5;124m'\u001b[39m\n\u001b[0;32m----> 2\u001b[0m file_names \u001b[38;5;241m=\u001b[39m \u001b[43mos\u001b[49m\u001b[38;5;241m.\u001b[39mlistdir(file_dir)\n\u001b[1;32m      3\u001b[0m \u001b[38;5;28;01mfor\u001b[39;00m file_name \u001b[38;5;129;01min\u001b[39;00m file_names:\n\u001b[1;32m      4\u001b[0m     \u001b[38;5;66;03m#if file_name == '.ipynb_checkpoints' or file_name == 'saturate' or file_name == 'defocus_blur' or file_name == 'glass_blur' or file_name == 'brightness' or file_name == 'impulse_noise':\u001b[39;00m\n\u001b[1;32m      5\u001b[0m         \u001b[38;5;66;03m#pass\u001b[39;00m\n\u001b[1;32m      6\u001b[0m     \u001b[38;5;28;01mif\u001b[39;00m file_name \u001b[38;5;241m==\u001b[39m \u001b[38;5;124m'\u001b[39m\u001b[38;5;124mspatter\u001b[39m\u001b[38;5;124m'\u001b[39m:\n",
      "\u001b[0;31mNameError\u001b[0m: name 'os' is not defined"
     ]
    }
   ],
   "source": [
    "file_dir = '/home/zhouxian/zhouxian/ImageNet-dataset/ImageNet-C'\n",
    "file_names = os.listdir(file_dir)\n",
    "for file_name in file_names:\n",
    "    #if file_name == '.ipynb_checkpoints' or file_name == 'saturate' or file_name == 'defocus_blur' or file_name == 'glass_blur' or file_name == 'brightness' or file_name == 'impulse_noise':\n",
    "        #pass\n",
    "    if file_name == 'spatter':\n",
    "        subfile_dir = os.path.join(file_dir, file_name,'1')\n",
    "        sub_file_names = os.listdir(subfile_dir)\n",
    "        for sub_file_name in sub_file_names:\n",
    "            #print(file_name)\n",
    "            if sub_file_name == '.ipynb_checkpoints':\n",
    "                pass  \n",
    "            images_names = os.listdir(os.path.join(subfile_dir,sub_file_name))\n",
    "            if images_names[0] != '.ipynb_checkpoints':\n",
    "                img_path = os.path.join(subfile_dir,sub_file_name,images_names[0])\n",
    "                orig_img = '/home/zhouxian/zhouxian/ImageNet-dataset/val/{}/{}'.format(sub_file_name,images_names[0])\n",
    "                save_path = '/home/zhouxian/zhouxian/Spectrum_test/ImageNet/corruption/{}/{}'.format(file_name,sub_file_name)\n",
    "                if not os.path.exists(save_path):\n",
    "                    os.makedirs(save_path)\n",
    "                save_img = os.path.join(save_path,\"semantic.pdf\")\n",
    "                orig, ph, hp, rd, qft = show_img_spectrum(orig_img)\n",
    "                orig1, ph1, hp1, rd1, qft1 = show_img_spectrum(img_path)\n",
    "                data = [\n",
    "                [orig, ph, hp, rd, qft],\n",
    "                [orig1, ph1, hp1, rd1, qft1]]\n",
    "\n",
    "                titles = [\n",
    "                    ['Orig', 'PFT', 'HPF', 'SR', 'QFT'],\n",
    "                    []]\n",
    "\n",
    "                fig, axs = plt.subplots(2, 5, figsize=(15, 6))\n",
    "\n",
    "                for i in range(2):\n",
    "                    for j in range(5):\n",
    "                        if titles[i] and j < len(titles[i]):\n",
    "                            axs[i, j].set_title(titles[i][j])\n",
    "                        if j == 0:\n",
    "                            axs[i, j].imshow(data[i][j])\n",
    "                        if j == 2 or j == 4:\n",
    "                            axs[i, j].imshow(data[i][j], cmap='gray_r')\n",
    "                        else: \n",
    "                            axs[i, j].imshow(data[i][j], cmap='gray')\n",
    "                        axs[i, j].axis('off')\n",
    "\n",
    "                plt.tight_layout()\n",
    "                plt.savefig(save_img, dpi=300)\n",
    "                #plt.show()\n",
    "                plt.close()"
   ]
  },
  {
   "cell_type": "code",
   "execution_count": null,
   "id": "8d46f61d",
   "metadata": {},
   "outputs": [],
   "source": []
  }
 ],
 "metadata": {
  "kernelspec": {
   "display_name": "pytorch",
   "language": "python",
   "name": "pytorch"
  },
  "language_info": {
   "codemirror_mode": {
    "name": "ipython",
    "version": 3
   },
   "file_extension": ".py",
   "mimetype": "text/x-python",
   "name": "python",
   "nbconvert_exporter": "python",
   "pygments_lexer": "ipython3",
   "version": "3.8.13"
  }
 },
 "nbformat": 4,
 "nbformat_minor": 5
}
